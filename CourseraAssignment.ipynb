{
 "cells": [
  {
   "cell_type": "markdown",
   "id": "2801cd74-9ff2-4ca7-a096-fafc03f7033b",
   "metadata": {},
   "source": [
    "# My Jupyter Notebook on IBM Watson Studio"
   ]
  },
  {
   "cell_type": "markdown",
   "id": "e6eb1969-2ef9-40e7-9f47-89685f37c01b",
   "metadata": {},
   "source": [
    "Name: **Jangyaseni Sahoo**  \n",
    "Engineering Student"
   ]
  },
  {
   "cell_type": "markdown",
   "id": "8c62f1f4-aa43-4fc0-a0a6-8f5c80cb68df",
   "metadata": {},
   "source": [
    "*I am interested in data science because I like analyzing data and putting it to good use.*"
   ]
  },
  {
   "cell_type": "markdown",
   "id": "c23a4eb4-7c2e-4c9b-90fd-b0973616fde9",
   "metadata": {},
   "source": [
    "### The code below will determine whether a number is even or odd."
   ]
  },
  {
   "cell_type": "code",
   "execution_count": 5,
   "id": "bfe5c4a9-6a4d-4172-8b9a-6813a3fd6cdb",
   "metadata": {},
   "outputs": [
    {
     "name": "stdout",
     "output_type": "stream",
     "text": [
      "even\n",
      "odd\n"
     ]
    }
   ],
   "source": [
    "def evod(num):\n",
    "    if(num % 2 == 0):\n",
    "        print(\"even\")\n",
    "    else:\n",
    "        print(\"odd\")\n",
    "\n",
    "evod(4)\n",
    "evod(5)"
   ]
  },
  {
   "cell_type": "markdown",
   "id": "be42c0a5-86c5-41d0-914d-ac47722cde92",
   "metadata": {},
   "source": [
    ">Blockquotes: These will show the blockquoting feature of markdown cells  \n",
    "\n",
    "Now numbered list:   \n",
    "1.Item1  \n",
    "2.Item2   \n",
    "3.Item3   \n",
    "\n",
    "Now bullet list:  \n",
    "-First Item  \n",
    "-Second Item   \n",
    "-Third Item   "
   ]
  },
  {
   "cell_type": "code",
   "execution_count": null,
   "id": "79a9469e-e868-4d4e-a491-bf5d7ae99936",
   "metadata": {},
   "outputs": [],
   "source": []
  }
 ],
 "metadata": {
  "kernelspec": {
   "display_name": "Python",
   "language": "python",
   "name": "conda-env-python-py"
  },
  "language_info": {
   "codemirror_mode": {
    "name": "ipython",
    "version": 3
   },
   "file_extension": ".py",
   "mimetype": "text/x-python",
   "name": "python",
   "nbconvert_exporter": "python",
   "pygments_lexer": "ipython3",
   "version": "3.7.12"
  }
 },
 "nbformat": 4,
 "nbformat_minor": 5
}
